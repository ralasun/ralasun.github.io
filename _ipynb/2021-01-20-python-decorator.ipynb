{
 "cells": [
  {
   "cell_type": "raw",
   "metadata": {},
   "source": [
    "---\n",
    "layout : jupyter\n",
    "title : 파이썬 - 데코레이터(Decorator)에 대하여\n",
    "category : Code Snippet\n",
    "tags : python\n",
    "---"
   ]
  },
  {
   "cell_type": "markdown",
   "metadata": {},
   "source": [
    "데코레이터는 이미 만들어져 있는 기존의 코드를 수정하지 않고도, 래퍼함수를 이용하여 여러 가지 기능을 추가하기 위해 사용합니다. 여기서 기존함수는 아래에서 original function에 해당하고, wrapper 함수는 decorator 함수에 정의된 함수입니다.(클로저)"
   ]
  },
  {
   "cell_type": "code",
   "execution_count": 10,
   "metadata": {},
   "outputs": [
    {
     "name": "stdout",
     "output_type": "stream",
     "text": [
      "display_1함수가 호출되기 전.\n",
      "display_1 함수 실행\n",
      "display_2함수가 호출되기 전.\n",
      "display_2 함수 실행\n"
     ]
    }
   ],
   "source": [
    "def decorator_function(original_function):\n",
    "    def wrapper_function():\n",
    "        \"\"\"\n",
    "        이렇게 decorator function 안에 wrapper function을 정의하고, \n",
    "        original function을 인자로 받으면 original function에 기능을 추가할 수 있습니다.\n",
    "        \"\"\"\n",
    "        print(f\"{original_function.__name__}함수가 호출되기 전.\") #기능추가\n",
    "        return original_function() #기능추가된게 실행되고, original_function을 수행한 결과를 return\n",
    "    return wrapper_function #decorator_function을 부르면 새로운 기능이 추가된 original function(즉 wrapper function)이 반환\n",
    "\n",
    "def display_1():\n",
    "    print('display_1 함수 실행')\n",
    "    \n",
    "def display_2():\n",
    "    print('display_2 함수 실행')\n",
    "    \n",
    "display_1 = decorator_function(display_1)\n",
    "display_2 = decorator_function(display_2)\n",
    "\n",
    "display_1()\n",
    "display_2()"
   ]
  },
  {
   "cell_type": "markdown",
   "metadata": {},
   "source": [
    "display_1 = decorator_function(display_1) 와 같이 잘 사용하진 않고, @심볼을 이용해서 간단하게 사용합니다."
   ]
  },
  {
   "cell_type": "code",
   "execution_count": 11,
   "metadata": {},
   "outputs": [
    {
     "name": "stdout",
     "output_type": "stream",
     "text": [
      "display_1함수가 호출되기 전.\n",
      "display_1 함수 실행\n",
      "display_2함수가 호출되기 전.\n",
      "display_2 함수 실행\n"
     ]
    }
   ],
   "source": [
    "@decorator_function\n",
    "def display_1():\n",
    "    print('display_1 함수 실행')\n",
    "    \n",
    "@decorator_function\n",
    "def display_2():\n",
    "    print('display_2 함수 실행')\n",
    "    \n",
    "display_1()\n",
    "display_2()"
   ]
  },
  {
   "cell_type": "markdown",
   "metadata": {},
   "source": [
    "그런데 인자를 받는 original function을 decorator로 감싸서 새로운 기능이 추가된 wrapper함수를 만들 땐 어떻게 해야 할까요? "
   ]
  },
  {
   "cell_type": "code",
   "execution_count": 14,
   "metadata": {},
   "outputs": [
    {
     "ename": "TypeError",
     "evalue": "wrapper_function() takes 0 positional arguments but 2 were given",
     "output_type": "error",
     "traceback": [
      "\u001B[0;31m------------------------------------------------------------\u001B[0m",
      "\u001B[0;31mTypeError\u001B[0m                  Traceback (most recent call last)",
      "\u001B[0;32m<ipython-input-14-06bbc641f452>\u001B[0m in \u001B[0;36m<module>\u001B[0;34m\u001B[0m\n\u001B[1;32m      3\u001B[0m     \u001B[0mprint\u001B[0m\u001B[0;34m(\u001B[0m\u001B[0;34m'display_info({},{}) 함수가 실행됐습니다.'\u001B[0m\u001B[0;34m.\u001B[0m\u001B[0mformat\u001B[0m\u001B[0;34m(\u001B[0m\u001B[0mname\u001B[0m\u001B[0;34m,\u001B[0m \u001B[0mage\u001B[0m\u001B[0;34m)\u001B[0m\u001B[0;34m)\u001B[0m\u001B[0;34m\u001B[0m\u001B[0;34m\u001B[0m\u001B[0m\n\u001B[1;32m      4\u001B[0m \u001B[0;34m\u001B[0m\u001B[0m\n\u001B[0;32m----> 5\u001B[0;31m \u001B[0mdisplay_info\u001B[0m\u001B[0;34m(\u001B[0m\u001B[0;34m'john'\u001B[0m\u001B[0;34m,\u001B[0m \u001B[0;36m25\u001B[0m\u001B[0;34m)\u001B[0m\u001B[0;34m\u001B[0m\u001B[0;34m\u001B[0m\u001B[0m\n\u001B[0m",
      "\u001B[0;31mTypeError\u001B[0m: wrapper_function() takes 0 positional arguments but 2 were given"
     ]
    }
   ],
   "source": [
    "@decorator_function\n",
    "def display_info(name, age):\n",
    "    print('display_info({},{}) 함수가 실행됐습니다.'.format(name, age))\n",
    "    \n",
    "display_info('john', 25)"
   ]
  },
  {
   "cell_type": "code",
   "execution_count": 15,
   "metadata": {},
   "outputs": [],
   "source": [
    "def decorator_function(original_function):\n",
    "    def wrapper_function():\n",
    "       \n",
    "        print(f\"{original_function.__name__}함수가 호출되기 전.\") \n",
    "        return original_function() #이 부분에서 인자를 전달하지 못하기 때문에 에러 발생    \n",
    "    return wrapper_function "
   ]
  },
  {
   "cell_type": "markdown",
   "metadata": {},
   "source": [
    "아래와 같이 **args, **kwargs 를 이용해서 해결 가능합니다."
   ]
  },
  {
   "cell_type": "code",
   "execution_count": 17,
   "metadata": {},
   "outputs": [
    {
     "name": "stdout",
     "output_type": "stream",
     "text": [
      "display_info함수가 호출되기 전.\n",
      "display_info(john,25)함수가 실행되었습니다. \n"
     ]
    }
   ],
   "source": [
    "def decorator_function(original_function):\n",
    "    def wrapper_function(*args, **kwargs):\n",
    "        print(f\"{original_function.__name__}함수가 호출되기 전.\")\n",
    "        return original_function(*args, **kwargs)\n",
    "    return wrapper_function\n",
    "\n",
    "@decorator_function\n",
    "def display_info(name, age):\n",
    "    print(f'display_info({name},{age})함수가 실행되었습니다. ')\n",
    "\n",
    "display_info('john',25)"
   ]
  },
  {
   "cell_type": "markdown",
   "metadata": {},
   "source": [
    "decorator는 클래스 형식을 사용할 수도 있습니다. 그러나 함수 형태를 더 많이 사용!!"
   ]
  },
  {
   "cell_type": "code",
   "execution_count": 22,
   "metadata": {},
   "outputs": [],
   "source": [
    "class DecoratorClass():\n",
    "    def __init__(self, original_function):\n",
    "        self.original_function = original_function\n",
    "        \n",
    "    def __call__(self, *args, **kwargs):\n",
    "        print(f'{self.original_function.__name__}이 호출되기 전')\n",
    "        return self.original_function(*args, **kwargs)\n",
    "\n",
    "@DecoratorClass\n",
    "def display():\n",
    "    print('display함수 실행됨')\n",
    "\n",
    "@DecoratorClass\n",
    "def display_info(name, age):\n",
    "    print(f'display_info({name},{age})함수가 실행되었습니다. ')"
   ]
  },
  {
   "cell_type": "code",
   "execution_count": 23,
   "metadata": {},
   "outputs": [
    {
     "name": "stdout",
     "output_type": "stream",
     "text": [
      "display이 호출되기 전\n",
      "display함수 실행됨\n",
      "display_info이 호출되기 전\n",
      "display_info(a,22)함수가 실행되었습니다. \n"
     ]
    }
   ],
   "source": [
    "display()\n",
    "display_info('a',22)"
   ]
  },
  {
   "cell_type": "markdown",
   "metadata": {},
   "source": [
    "데코레이터의 실제 사용되는 곳은 로깅 기록을 남길 때 많이 사용된다고 합니다."
   ]
  },
  {
   "cell_type": "code",
   "execution_count": 24,
   "metadata": {},
   "outputs": [],
   "source": [
    "import datetime\n",
    "import time\n",
    "\n",
    "def my_logger(original_function):\n",
    "    import logging\n",
    "    logging.basicConfig(filename=f'{original_function.__name__}.log', \n",
    "                        level=logging.INFO)\n",
    "    \n",
    "    def wrapper(*args, **kwargs):\n",
    "        timestamp = datetime.datetime.now().strftime('%Y-%m-%d %H:%M')\n",
    "        logging.info(\n",
    "            '[{}] 실행결과 args - {}, kwargs - {}'.format(timestamp, args, kwargs))\n",
    "        return original_function(*args, **kwargs)\n",
    "    \n",
    "    return wrapper\n",
    "\n",
    "@my_logger\n",
    "def display_info(name, age):\n",
    "    time.sleep(1)\n",
    "    print(f'display info({name}, {age}) 가 실행되었습니다.')"
   ]
  },
  {
   "cell_type": "code",
   "execution_count": 25,
   "metadata": {},
   "outputs": [
    {
     "name": "stdout",
     "output_type": "stream",
     "text": [
      "display info(John, 25) 가 실행되었습니다.\n"
     ]
    }
   ],
   "source": [
    "display_info('John', 25)"
   ]
  },
  {
   "cell_type": "code",
   "execution_count": 27,
   "metadata": {},
   "outputs": [
    {
     "data": {
      "text/plain": [
       "\"INFO:root:[2021-01-20 16:45] 실행결과 args - ('John', 25), kwargs - {}\\n\""
      ]
     },
     "execution_count": 27,
     "metadata": {},
     "output_type": "execute_result"
    }
   ],
   "source": [
    "f = open('display_info.log')\n",
    "f.readline()"
   ]
  },
  {
   "cell_type": "markdown",
   "metadata": {},
   "source": [
    "1. [http://schoolofweb.net/blog/posts/파이썬-데코레이터-decorator/](http://schoolofweb.net/blog/posts/파이썬-데코레이터-decorator/)"
   ]
  }
 ],
 "metadata": {
  "kernelspec": {
   "display_name": "tensorflow2",
   "language": "python",
   "name": "tensorflow2"
  },
  "language_info": {
   "codemirror_mode": {
    "name": "ipython",
    "version": 3
   },
   "file_extension": ".py",
   "mimetype": "text/x-python",
   "name": "python",
   "nbconvert_exporter": "python",
   "pygments_lexer": "ipython3",
   "version": "3.6.10"
  }
 },
 "nbformat": 4,
 "nbformat_minor": 4
}