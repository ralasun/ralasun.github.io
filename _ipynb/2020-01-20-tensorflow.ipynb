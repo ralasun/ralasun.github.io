{
 "cells": [
  {
   "cell_type": "raw",
   "metadata": {},
   "source": [
    "---\n",
    "layout : jupyter\n",
    "title : pandas.DataFrame.any(), numpy.any()\n",
    "category : Code Snippet\n",
    "tags : pandas python code, numpy\n",
    "---"
   ]
  },
  {
   "cell_type": "markdown",
   "metadata": {},
   "source": [
    "***\n",
    "tensorflow 코드 모음입니다.\n",
    "***"
   ]
  },
  {
   "cell_type": "markdown",
   "metadata": {},
   "source": [
    "# 새로운 축 추가하기"
   ]
  },
  {
   "cell_type": "code",
   "execution_count": 1,
   "metadata": {},
   "outputs": [],
   "source": [
    "import tensorflow as tf\n",
    "import numpy as np"
   ]
  },
  {
   "cell_type": "code",
   "execution_count": 7,
   "metadata": {},
   "outputs": [
    {
     "name": "stdout",
     "output_type": "stream",
     "text": [
      "[[[0.93047955 0.81575441]\n",
      "  [0.54309143 0.31435391]]\n",
      "\n",
      " [[0.79096763 0.24945972]\n",
      "  [0.33245036 0.14846471]]\n",
      "\n",
      " [[0.67329039 0.85104668]\n",
      "  [0.10029469 0.84271959]]\n",
      "\n",
      " [[0.50068417 0.76320642]\n",
      "  [0.04881908 0.7371354 ]]]\n",
      "(4, 2, 2)\n"
     ]
    }
   ],
   "source": [
    "x = np.random.rand(4,2,2)\n",
    "print(x)\n",
    "print(x.shape)"
   ]
  },
  {
   "cell_type": "code",
   "execution_count": 8,
   "metadata": {},
   "outputs": [
    {
     "name": "stdout",
     "output_type": "stream",
     "text": [
      "(1, 4, 2, 2)\n"
     ]
    }
   ],
   "source": [
    "newx1 = x[tf.newaxis,...]\n",
    "print(newx1.shape)"
   ]
  },
  {
   "cell_type": "code",
   "execution_count": 10,
   "metadata": {},
   "outputs": [
    {
     "name": "stdout",
     "output_type": "stream",
     "text": [
      "(4, 2, 2, 1)\n"
     ]
    }
   ],
   "source": [
    "newx2 = x[..., tf.newaxis]\n",
    "print(newx2.shape)"
   ]
  },
  {
   "cell_type": "markdown",
   "metadata": {},
   "source": [
    "인덱싱에서 ellipsis(...)는 여러개 사용 못함"
   ]
  },
  {
   "cell_type": "code",
   "execution_count": 11,
   "metadata": {},
   "outputs": [
    {
     "ename": "IndexError",
     "evalue": "an index can only have a single ellipsis ('...')",
     "output_type": "error",
     "traceback": [
      "\u001b[0;31m------------------------------------------------------------\u001b[0m",
      "\u001b[0;31mIndexError\u001b[0m                 Traceback (most recent call last)",
      "\u001b[0;32m<ipython-input-11-d664be2f88e5>\u001b[0m in \u001b[0;36m<module>\u001b[0;34m\u001b[0m\n\u001b[0;32m----> 1\u001b[0;31m \u001b[0mnewx3\u001b[0m \u001b[0;34m=\u001b[0m \u001b[0mx\u001b[0m\u001b[0;34m[\u001b[0m\u001b[0;34m...\u001b[0m\u001b[0;34m,\u001b[0m \u001b[0mtf\u001b[0m\u001b[0;34m.\u001b[0m\u001b[0mnewaxis\u001b[0m\u001b[0;34m,\u001b[0m \u001b[0;34m...\u001b[0m\u001b[0;34m]\u001b[0m\u001b[0;34m\u001b[0m\u001b[0;34m\u001b[0m\u001b[0m\n\u001b[0m",
      "\u001b[0;31mIndexError\u001b[0m: an index can only have a single ellipsis ('...')"
     ]
    }
   ],
   "source": [
    "newx3 = x[..., tf.newaxis, ...]"
   ]
  },
  {
   "cell_type": "markdown",
   "metadata": {},
   "source": [
    "# tf.cast()\n",
    "\n",
    "tf.cast(x, dtype, name=None)\n",
    "\n",
    "기존 tensor를 새로운 타입으로 변경할 때 사용 가능"
   ]
  },
  {
   "cell_type": "markdown",
   "metadata": {},
   "source": [
    "# tf.math.logical_not()\n",
    "\n",
    "False인 부분을 True로 바꿔줌 (boolen타입이라면)"
   ]
  },
  {
   "cell_type": "code",
   "execution_count": 2,
   "metadata": {},
   "outputs": [
    {
     "data": {
      "text/plain": [
       "<tf.Tensor: shape=(2,), dtype=bool, numpy=array([False,  True])>"
      ]
     },
     "execution_count": 2,
     "metadata": {},
     "output_type": "execute_result"
    }
   ],
   "source": [
    "boolen = tf.constant([True, False], dtype=tf.bool)\n",
    "tf.math.logical_not(boolen)"
   ]
  },
  {
   "cell_type": "markdown",
   "metadata": {},
   "source": [
    "활용할 수 있는 부분 ==> mask할 때 필요.\n"
   ]
  },
  {
   "cell_type": "markdown",
   "metadata": {},
   "source": [
    "# tf.gather_nd(params, slices)\n",
    "\n",
    "params 어레이를 indices 어레이의 인덱스를 가지고 슬라이를 하는 것임 "
   ]
  },
  {
   "cell_type": "code",
   "execution_count": 27,
   "metadata": {},
   "outputs": [],
   "source": [
    "indices = np.array([[0,0], [1,1]])\n",
    "params = np.array([['a', 'b'], ['c', 'd']])"
   ]
  },
  {
   "cell_type": "code",
   "execution_count": 28,
   "metadata": {},
   "outputs": [
    {
     "data": {
      "text/plain": [
       "array([b'a', b'd'], dtype=object)"
      ]
     },
     "execution_count": 28,
     "metadata": {},
     "output_type": "execute_result"
    }
   ],
   "source": [
    "output = tf.gather_nd(params, indices)\n",
    "output.numpy()"
   ]
  },
  {
   "cell_type": "markdown",
   "metadata": {},
   "source": [
    "indices의 첫번째 요소가 (0,0)이기 때문에, params에서 0번째 row의 0번째 column을 선택하고, 두번째요소가 (1,1)이기 때문에 params에서 1번째 row의 1번째 column을 선택함.\n",
    "\n",
    "ouput의 크기는 (2,)가 됨"
   ]
  },
  {
   "cell_type": "code",
   "execution_count": 14,
   "metadata": {},
   "outputs": [],
   "source": [
    "indices = np.array([[1], [0]])\n",
    "params = np.array([['a', 'b'], ['c', 'd']])"
   ]
  },
  {
   "cell_type": "code",
   "execution_count": 15,
   "metadata": {},
   "outputs": [
    {
     "data": {
      "text/plain": [
       "array([[b'c', b'd'],\n",
       "       [b'a', b'b']], dtype=object)"
      ]
     },
     "execution_count": 15,
     "metadata": {},
     "output_type": "execute_result"
    }
   ],
   "source": [
    "output = tf.gather_nd(params, indices)\n",
    "output.numpy()"
   ]
  },
  {
   "cell_type": "markdown",
   "metadata": {},
   "source": [
    "indices의 첫번째 요소가 [1]이기 때문에, params의 두번째 row전체를 선택하고, 두번째 요소가 [0] 이기 때문에 params의 첫번째 row전체를 선택함\n",
    "\n",
    "output의 크기는 (2,2)가 됨"
   ]
  },
  {
   "cell_type": "code",
   "execution_count": 20,
   "metadata": {},
   "outputs": [],
   "source": [
    "indices = np.array([[1]])\n",
    "params = np.array([[['a0', 'b0'], ['c0', 'd0']],\n",
    "                   [['a1', 'b1'], ['c1', 'd1']]])"
   ]
  },
  {
   "cell_type": "code",
   "execution_count": 22,
   "metadata": {},
   "outputs": [
    {
     "data": {
      "text/plain": [
       "array([[[b'a1', b'b1'],\n",
       "        [b'c1', b'd1']]], dtype=object)"
      ]
     },
     "execution_count": 22,
     "metadata": {},
     "output_type": "execute_result"
    }
   ],
   "source": [
    "output = tf.gather_nd(params, indices)\n",
    "output.numpy()"
   ]
  },
  {
   "cell_type": "markdown",
   "metadata": {},
   "source": [
    "indices의 첫번째 요소가 [1]만 있기 때문에, params에서 2번째 row를 전체 선택함. \n",
    "\n",
    "사이즈는 params이 3차원 dimension이기 때문에, output크기는 (1,2,2)가 됨"
   ]
  },
  {
   "cell_type": "code",
   "execution_count": 30,
   "metadata": {},
   "outputs": [],
   "source": [
    "indices = np.array([[0, 1], [1, 0]])\n",
    "params = np.array([[['a0', 'b0'], ['c0', 'd0']],\n",
    "                  [['a1', 'b1'], ['c1', 'd1']]])"
   ]
  },
  {
   "cell_type": "code",
   "execution_count": 32,
   "metadata": {},
   "outputs": [
    {
     "data": {
      "text/plain": [
       "array([[b'c0', b'd0'],\n",
       "       [b'a1', b'b1']], dtype=object)"
      ]
     },
     "execution_count": 32,
     "metadata": {},
     "output_type": "execute_result"
    }
   ],
   "source": [
    "output = tf.gather_nd(params, indices)\n",
    "output.numpy()"
   ]
  },
  {
   "cell_type": "code",
   "execution_count": 33,
   "metadata": {},
   "outputs": [],
   "source": [
    "indices = np.array([[0, 0, 1], [1, 0, 1]])\n",
    "params = np.array([[['a0', 'b0'], ['c0', 'd0']],\n",
    "                  [['a1', 'b1'], ['c1', 'd1']]])"
   ]
  },
  {
   "cell_type": "code",
   "execution_count": 34,
   "metadata": {},
   "outputs": [
    {
     "data": {
      "text/plain": [
       "array([b'b0', b'b1'], dtype=object)"
      ]
     },
     "execution_count": 34,
     "metadata": {},
     "output_type": "execute_result"
    }
   ],
   "source": [
    "output = tf.gather_nd(params, indices)\n",
    "output.numpy()"
   ]
  }
 ],
 "metadata": {
  "kernelspec": {
   "display_name": "tf2",
   "language": "python",
   "name": "tensorflow2"
  },
  "language_info": {
   "codemirror_mode": {
    "name": "ipython",
    "version": 3
   },
   "file_extension": ".py",
   "mimetype": "text/x-python",
   "name": "python",
   "nbconvert_exporter": "python",
   "pygments_lexer": "ipython3",
   "version": "3.7.9"
  }
 },
 "nbformat": 4,
 "nbformat_minor": 4
}
