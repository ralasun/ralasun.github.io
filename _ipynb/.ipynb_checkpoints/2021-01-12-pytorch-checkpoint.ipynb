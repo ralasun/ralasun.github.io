{
 "cells": [
  {
   "cell_type": "raw",
   "metadata": {},
   "source": [
    "---\n",
    "layout : jupyter\n",
    "title : 기억하면 좋을 코드 Tips - pytorch\n",
    "category : Code Snippet\n",
    "tags :numpy pytorch \n",
    "---"
   ]
  },
  {
   "cell_type": "markdown",
   "metadata": {},
   "source": [
    "***\n",
    "개인적으로 기억해두면 좋을 코드 블럭 및 헷갈리는 코드 모음집입니다. \n",
    "***"
   ]
  },
  {
   "cell_type": "markdown",
   "metadata": {},
   "source": [
    "# Pytorch : Bridge with Numpy\n",
    "\n",
    "### tensor에서 numpy로 변환"
   ]
  },
  {
   "cell_type": "code",
   "execution_count": 8,
   "metadata": {},
   "outputs": [],
   "source": [
    "import torch\n",
    "from torch import nn\n",
    "import numpy as np"
   ]
  },
  {
   "cell_type": "code",
   "execution_count": 2,
   "metadata": {},
   "outputs": [
    {
     "name": "stdout",
     "output_type": "stream",
     "text": [
      "t : tensor([1., 1., 1., 1., 1.])\n",
      "n : [1. 1. 1. 1. 1.]\n"
     ]
    }
   ],
   "source": [
    "t = torch.ones(5)\n",
    "print(f\"t : {t}\")\n",
    "n = t.numpy()\n",
    "print(f\"n : {n}\")"
   ]
  },
  {
   "cell_type": "markdown",
   "metadata": {},
   "source": [
    "<p style='color:red'>tensor의 값이 변하면, numpy array값도 변합니다.!!!</p>"
   ]
  },
  {
   "cell_type": "code",
   "execution_count": 3,
   "metadata": {},
   "outputs": [
    {
     "name": "stdout",
     "output_type": "stream",
     "text": [
      "t : tensor([3., 3., 3., 3., 3.])\n",
      "n : [3. 3. 3. 3. 3.]\n"
     ]
    }
   ],
   "source": [
    "t.add_(2)\n",
    "print(f\"t : {t}\")\n",
    "print(f\"n : {n}\")"
   ]
  },
  {
   "cell_type": "markdown",
   "metadata": {},
   "source": [
    "### numpy에서 tensor로 변환"
   ]
  },
  {
   "cell_type": "code",
   "execution_count": 4,
   "metadata": {},
   "outputs": [],
   "source": [
    "n = np.ones(5)\n",
    "t = torch.from_numpy(n)"
   ]
  },
  {
   "cell_type": "markdown",
   "metadata": {},
   "source": [
    "<p style='color:red'>마찬가지로, numpy array값이 변하면 tensor의 값도 변합니다.</p>"
   ]
  },
  {
   "cell_type": "code",
   "execution_count": 5,
   "metadata": {},
   "outputs": [
    {
     "name": "stdout",
     "output_type": "stream",
     "text": [
      "t : tensor([2., 2., 2., 2., 2.], dtype=torch.float64)\n",
      "n : [2. 2. 2. 2. 2.]\n"
     ]
    }
   ],
   "source": [
    "np.add(n, 1, out=n) #in-place operation\n",
    "print(f\"t : {t}\")\n",
    "print(f\"n : {n}\")"
   ]
  },
  {
   "cell_type": "markdown",
   "metadata": {},
   "source": [
    "# tensor.item()"
   ]
  },
  {
   "cell_type": "markdown",
   "metadata": {},
   "source": [
    "tensor를 python number로 변경합니다. **즉 autograd에서 추적에서 제외하여 사용하고 싶을 때 사용 가능합니다.** 그러나, single element인 경우에만 사용합니다."
   ]
  },
  {
   "cell_type": "code",
   "execution_count": 11,
   "metadata": {},
   "outputs": [
    {
     "name": "stdout",
     "output_type": "stream",
     "text": [
      "1.0\n"
     ]
    }
   ],
   "source": [
    "tensor = torch.tensor([1.])\n",
    "one = tensor.item()\n",
    "print(one)"
   ]
  },
  {
   "cell_type": "markdown",
   "metadata": {},
   "source": [
    "# tensor.tolist()"
   ]
  },
  {
   "cell_type": "markdown",
   "metadata": {},
   "source": [
    "single element가 아닌 경우, tensor를 python nested list로 반환합니다."
   ]
  },
  {
   "cell_type": "code",
   "execution_count": 12,
   "metadata": {},
   "outputs": [
    {
     "name": "stdout",
     "output_type": "stream",
     "text": [
      "[[0.04768955707550049, 0.1713775396347046], [0.8403283953666687, 0.08999484777450562]]\n"
     ]
    }
   ],
   "source": [
    "tensor = torch.rand(2,2)\n",
    "nlist = tensor.tolist()\n",
    "print(nlist)"
   ]
  },
  {
   "cell_type": "markdown",
   "metadata": {},
   "source": [
    "# tensor.max()"
   ]
  },
  {
   "cell_type": "markdown",
   "metadata": {},
   "source": [
    "### tensor.max(input_tensor, dim, keepdim) -> (max, max_indices)\n",
    "\n",
    "- dim : 줄이고 싶은 dimension\n",
    "- keepdim : True이면 input텐서의 dimension갯수와 동일하게 나오고 아닌 경우 줄어들음"
   ]
  },
  {
   "cell_type": "code",
   "execution_count": 14,
   "metadata": {},
   "outputs": [
    {
     "name": "stdout",
     "output_type": "stream",
     "text": [
      "tensor([[ 0.0195, -1.0606, -0.1571,  0.6436,  0.6611,  0.3542, -0.8516,  1.9376,\n",
      "         -0.6267,  2.8477],\n",
      "        [-0.3695, -2.4008, -0.1464, -0.9450, -0.1694,  0.1326, -1.6779, -0.6629,\n",
      "          0.4521, -0.4298],\n",
      "        [ 0.6872,  0.0666,  0.1974, -1.0106, -0.6752, -0.2642,  0.3372, -1.5194,\n",
      "          2.4955,  0.0720],\n",
      "        [-1.3614, -0.2447,  0.8597,  0.9297,  0.8845,  0.0437, -0.2814,  1.5872,\n",
      "         -0.8696,  1.9407]])\n"
     ]
    }
   ],
   "source": [
    "tensor_2d = torch.randn(4,10)\n",
    "print(tensor_2d)"
   ]
  },
  {
   "cell_type": "code",
   "execution_count": 15,
   "metadata": {},
   "outputs": [
    {
     "name": "stdout",
     "output_type": "stream",
     "text": [
      "torch.return_types.max(\n",
      "values=tensor([[0.6872, 0.0666, 0.8597, 0.9297, 0.8845, 0.3542, 0.3372, 1.9376, 2.4955,\n",
      "         2.8477]]),\n",
      "indices=tensor([[2, 2, 3, 3, 3, 0, 2, 0, 2, 0]]))\n"
     ]
    }
   ],
   "source": [
    "tensor_2d_max = torch.max(tensor_2d, dim=0, keepdim=True)\n",
    "print(tensor_2d_max)"
   ]
  },
  {
   "cell_type": "code",
   "execution_count": 17,
   "metadata": {},
   "outputs": [
    {
     "name": "stdout",
     "output_type": "stream",
     "text": [
      "torch.return_types.max(\n",
      "values=tensor([0.6872, 0.0666, 0.8597, 0.9297, 0.8845, 0.3542, 0.3372, 1.9376, 2.4955,\n",
      "        2.8477]),\n",
      "indices=tensor([2, 2, 3, 3, 3, 0, 2, 0, 2, 0]))\n"
     ]
    }
   ],
   "source": [
    "tensor_2d_max = torch.max(tensor_2d, dim=0, keepdim=False)\n",
    "print(tensor_2d_max)"
   ]
  },
  {
   "cell_type": "code",
   "execution_count": 21,
   "metadata": {},
   "outputs": [
    {
     "name": "stdout",
     "output_type": "stream",
     "text": [
      "torch.return_types.max(\n",
      "values=tensor([[2.8477],\n",
      "        [0.4521],\n",
      "        [2.4955],\n",
      "        [1.9407]]),\n",
      "indices=tensor([[9],\n",
      "        [8],\n",
      "        [8],\n",
      "        [9]]))\n",
      "torch.return_types.max(\n",
      "values=tensor([2.8477, 0.4521, 2.4955, 1.9407]),\n",
      "indices=tensor([9, 8, 8, 9]))\n"
     ]
    }
   ],
   "source": [
    "tensor_2d_max_dim1 = torch.max(tensor_2d, dim=1, keepdim=True)\n",
    "print(tensor_2d_max_dim1)\n",
    "\n",
    "tensor_2d_max_dim1 = torch.max(tensor_2d, dim=1, keepdim=False)\n",
    "print(tensor_2d_max_dim1)"
   ]
  },
  {
   "cell_type": "code",
   "execution_count": 25,
   "metadata": {},
   "outputs": [
    {
     "data": {
      "text/plain": [
       "tensor([[[2, 5, 9, 2],\n",
       "         [1, 5, 4, 1],\n",
       "         [2, 2, 3, 2],\n",
       "         [5, 1, 0, 6]],\n",
       "\n",
       "        [[5, 2, 2, 3],\n",
       "         [6, 4, 8, 7],\n",
       "         [3, 3, 1, 8],\n",
       "         [0, 4, 9, 0]],\n",
       "\n",
       "        [[4, 6, 9, 9],\n",
       "         [6, 0, 3, 3],\n",
       "         [6, 8, 5, 7],\n",
       "         [2, 2, 0, 5]],\n",
       "\n",
       "        [[8, 8, 5, 6],\n",
       "         [2, 3, 2, 7],\n",
       "         [5, 2, 4, 8],\n",
       "         [9, 8, 9, 9]]])"
      ]
     },
     "execution_count": 25,
     "metadata": {},
     "output_type": "execute_result"
    }
   ],
   "source": [
    "t3d=torch.randint(high=10, size=(4,4,4))\n",
    "t3d"
   ]
  },
  {
   "cell_type": "code",
   "execution_count": 26,
   "metadata": {},
   "outputs": [
    {
     "data": {
      "text/plain": [
       "torch.return_types.max(\n",
       "values=tensor([[8, 8, 9, 9],\n",
       "        [6, 5, 8, 7],\n",
       "        [6, 8, 5, 8],\n",
       "        [9, 8, 9, 9]]),\n",
       "indices=tensor([[3, 3, 0, 2],\n",
       "        [1, 0, 1, 1],\n",
       "        [2, 2, 2, 1],\n",
       "        [3, 3, 1, 3]]))"
      ]
     },
     "execution_count": 26,
     "metadata": {},
     "output_type": "execute_result"
    }
   ],
   "source": [
    "torch.max(t3d, dim=0)"
   ]
  },
  {
   "cell_type": "code",
   "execution_count": 27,
   "metadata": {},
   "outputs": [
    {
     "data": {
      "text/plain": [
       "torch.return_types.max(\n",
       "values=tensor([[5, 5, 9, 6],\n",
       "        [6, 4, 9, 8],\n",
       "        [6, 8, 9, 9],\n",
       "        [9, 8, 9, 9]]),\n",
       "indices=tensor([[3, 0, 0, 3],\n",
       "        [1, 1, 3, 2],\n",
       "        [1, 2, 0, 0],\n",
       "        [3, 0, 3, 3]]))"
      ]
     },
     "execution_count": 27,
     "metadata": {},
     "output_type": "execute_result"
    }
   ],
   "source": [
    "torch.max(t3d, dim=1)"
   ]
  },
  {
   "cell_type": "code",
   "execution_count": 28,
   "metadata": {},
   "outputs": [
    {
     "data": {
      "text/plain": [
       "torch.return_types.max(\n",
       "values=tensor([[9, 5, 3, 6],\n",
       "        [5, 8, 8, 9],\n",
       "        [9, 6, 8, 5],\n",
       "        [8, 7, 8, 9]]),\n",
       "indices=tensor([[2, 1, 2, 3],\n",
       "        [0, 2, 3, 2],\n",
       "        [2, 0, 1, 3],\n",
       "        [0, 3, 3, 0]]))"
      ]
     },
     "execution_count": 28,
     "metadata": {},
     "output_type": "execute_result"
    }
   ],
   "source": [
    "torch.max(t3d, dim=2)"
   ]
  },
  {
   "cell_type": "markdown",
   "metadata": {},
   "source": [
    "torch.max() 가 작동하는 원리에 대한 아래와 같이 이해하였습니다.\n",
    "\n",
    "![jpg](2021-01-12-pytorch_files/study-50.jpg)"
   ]
  },
  {
   "cell_type": "code",
   "execution_count": 30,
   "metadata": {},
   "outputs": [
    {
     "data": {
      "text/plain": [
       "tensor([[[[7, 0, 5, 3],\n",
       "          [5, 6, 4, 6],\n",
       "          [1, 7, 8, 5]],\n",
       "\n",
       "         [[0, 7, 5, 5],\n",
       "          [7, 5, 8, 0],\n",
       "          [8, 5, 9, 5]]],\n",
       "\n",
       "\n",
       "        [[[0, 3, 1, 0],\n",
       "          [5, 9, 1, 2],\n",
       "          [4, 7, 7, 0]],\n",
       "\n",
       "         [[2, 6, 3, 1],\n",
       "          [3, 0, 3, 6],\n",
       "          [1, 4, 9, 9]]]])"
      ]
     },
     "execution_count": 30,
     "metadata": {},
     "output_type": "execute_result"
    }
   ],
   "source": [
    "##torch.max 예제\n",
    "t3dd = torch.randint(high=10, size=(2,2,3,4))\n",
    "t3dd"
   ]
  },
  {
   "cell_type": "code",
   "execution_count": 34,
   "metadata": {},
   "outputs": [
    {
     "data": {
      "text/plain": [
       "torch.return_types.max(\n",
       "values=tensor([[[7, 6, 8],\n",
       "         [7, 8, 9]],\n",
       "\n",
       "        [[3, 9, 7],\n",
       "         [6, 6, 9]]]),\n",
       "indices=tensor([[[0, 1, 2],\n",
       "         [1, 2, 2]],\n",
       "\n",
       "        [[1, 1, 1],\n",
       "         [1, 3, 2]]]))"
      ]
     },
     "execution_count": 34,
     "metadata": {},
     "output_type": "execute_result"
    }
   ],
   "source": [
    "torch.max(t3dd, dim=0)\n",
    "torch.max(t3dd, dim=1)\n",
    "torch.max(t3dd, dim=2)\n",
    "torch.max(t3dd, dim=3)"
   ]
  }
 ],
 "metadata": {
  "kernelspec": {
   "display_name": "torch",
   "language": "python",
   "name": "pytorch"
  },
  "language_info": {
   "codemirror_mode": {
    "name": "ipython",
    "version": 3
   },
   "file_extension": ".py",
   "mimetype": "text/x-python",
   "name": "python",
   "nbconvert_exporter": "python",
   "pygments_lexer": "ipython3",
   "version": "3.7.9"
  }
 },
 "nbformat": 4,
 "nbformat_minor": 4
}
