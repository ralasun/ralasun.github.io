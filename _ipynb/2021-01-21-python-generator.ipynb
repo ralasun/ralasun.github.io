{
 "cells": [
  {
   "cell_type": "raw",
   "metadata": {
    "collapsed": true,
    "pycharm": {
     "name": "#%% raw\n"
    }
   },
   "source": [
    "---\n",
    "layout : jupyter\n",
    "title : 파이썬 - 제너레이터(Generator)에 대하여\n",
    "category : Code Snippet\n",
    "tags : python\n",
    "---"
   ]
  },
  {
   "cell_type": "markdown",
   "source": [
    "***\n",
    "[http://schoolofweb.net/blog/posts/파이썬-제너레이터-generator/](http://schoolofweb.net/blog/posts/파이썬-제너레이터-generator/) 를 보고 정리하였습니다.\n",
    "\n",
    "***"
   ],
   "metadata": {
    "collapsed": false,
    "pycharm": {
     "name": "#%% md\n"
    }
   }
  },
  {
   "cell_type": "markdown",
   "source": [
    "제너레이터란, 반복자(iterator)와 같은 루프의 작용을 컨트롤하기 위해 쓰여지는 특별한 함수 또는 루틴을 말합니다.\n",
    "제너레이터는 배열이나 리스트를 리턴하는 함수와 비슷하지만 차이점은 한번에 모든 값을 만들어서 배열이나 리스트에 담은 다음 리턴하는 것이 아니라, yield구문을 이용해 한번 호출될 때마다 하나의 값만을 리턴합니다.\n",
    "\n",
    "이러한 이유로 일반 반복자에 비해 적은 메모리를 필요로 합니다.\n",
    "\n",
    "일반함수 같은 경우 코드의 첫줄부터 마지막줄 return, exception등을 만날때까지 실행된 후 호출자에게 리턴됩니다. 그리고 함수 내부의 모든 로컬 변수는 메모리에서 사라집니다.\n",
    "\n",
    "그러나, 영원히 사라져버리는 함수가 아니라 하나의 일을 마치면 자기가 했던 일을 기억하고 대기했다가 다시 호출되면 전의 일을 이어서 하는 함수가 필요하기 시작했습니다. 그것이 바로 **제너레이터**입니다."
   ],
   "metadata": {
    "collapsed": false,
    "pycharm": {
     "name": "#%% md\n"
    }
   }
  },
  {
   "cell_type": "code",
   "execution_count": 2,
   "outputs": [
    {
     "name": "stdout",
     "output_type": "stream",
     "text": [
      "[2, 3, 4, 5, 6]\n"
     ]
    }
   ],
   "source": [
    "def square_numbers(nums):\n",
    "    result = []\n",
    "    for i in nums:\n",
    "        result.append(i+1)\n",
    "    return result\n",
    "\n",
    "my_nums = square_numbers([1,2,3,4,5])\n",
    "print(my_nums)\n"
   ],
   "metadata": {
    "collapsed": false,
    "pycharm": {
     "name": "#%%\n"
    }
   }
  },
  {
   "cell_type": "markdown",
   "source": [
    "위의 코드를 generator로 만들면 아래와 같습니다.\n",
    "\n"
   ],
   "metadata": {
    "collapsed": false,
    "pycharm": {
     "name": "#%% md\n"
    }
   }
  },
  {
   "cell_type": "code",
   "execution_count": 3,
   "outputs": [
    {
     "name": "stdout",
     "output_type": "stream",
     "text": [
      "<generator object square_numbers at 0x7fd4b7e7d888>\n"
     ]
    }
   ],
   "source": [
    "def square_numbers(nums):\n",
    "    for i in nums:\n",
    "        yield i*1\n",
    "\n",
    "my_nums = square_numbers([1,2,3,4,5])\n",
    "print(my_nums)"
   ],
   "metadata": {
    "collapsed": false,
    "pycharm": {
     "name": "#%%\n"
    }
   }
  },
  {
   "cell_type": "markdown",
   "source": [
    "결과를 보면 generator라는 오브젝트가 리턴됩니다. 자신이 리턴할 모든 값을 메모리에 저장하지 않기 때문입니다. 따라서 제너레이터가 만들어졌고, 이 제너레이터를 호출할 때마다 하나의 값만을 차례로 계산해서 리턴합니다.\n",
    "더이상 전달할 값이 없으면 stopiteration이 발생합니다."
   ],
   "metadata": {
    "collapsed": false,
    "pycharm": {
     "name": "#%% md\n"
    }
   }
  },
  {
   "cell_type": "code",
   "execution_count": 5,
   "outputs": [
    {
     "name": "stdout",
     "output_type": "stream",
     "text": [
      "2\n",
      "3\n",
      "4\n",
      "5\n"
     ]
    },
    {
     "ename": "StopIteration",
     "evalue": "",
     "output_type": "error",
     "traceback": [
      "\u001B[0;31m---------------------------------------------------------------------------\u001B[0m",
      "\u001B[0;31mStopIteration\u001B[0m                             Traceback (most recent call last)",
      "\u001B[0;32m<ipython-input-5-0fb53cfa6298>\u001B[0m in \u001B[0;36m<module>\u001B[0;34m\u001B[0m\n\u001B[1;32m      3\u001B[0m \u001B[0mprint\u001B[0m\u001B[0;34m(\u001B[0m\u001B[0mnext\u001B[0m\u001B[0;34m(\u001B[0m\u001B[0mmy_nums\u001B[0m\u001B[0;34m)\u001B[0m\u001B[0;34m)\u001B[0m\u001B[0;34m\u001B[0m\u001B[0;34m\u001B[0m\u001B[0m\n\u001B[1;32m      4\u001B[0m \u001B[0mprint\u001B[0m\u001B[0;34m(\u001B[0m\u001B[0mnext\u001B[0m\u001B[0;34m(\u001B[0m\u001B[0mmy_nums\u001B[0m\u001B[0;34m)\u001B[0m\u001B[0;34m)\u001B[0m\u001B[0;34m\u001B[0m\u001B[0;34m\u001B[0m\u001B[0m\n\u001B[0;32m----> 5\u001B[0;31m \u001B[0mprint\u001B[0m\u001B[0;34m(\u001B[0m\u001B[0mnext\u001B[0m\u001B[0;34m(\u001B[0m\u001B[0mmy_nums\u001B[0m\u001B[0;34m)\u001B[0m\u001B[0;34m)\u001B[0m\u001B[0;34m\u001B[0m\u001B[0;34m\u001B[0m\u001B[0m\n\u001B[0m\u001B[1;32m      6\u001B[0m \u001B[0;34m\u001B[0m\u001B[0m\n",
      "\u001B[0;31mStopIteration\u001B[0m: "
     ]
    }
   ],
   "source": [
    "print(next(my_nums))\n",
    "print(next(my_nums))\n",
    "print(next(my_nums))\n",
    "print(next(my_nums))\n",
    "print(next(my_nums))"
   ],
   "metadata": {
    "collapsed": false,
    "pycharm": {
     "name": "#%%\n"
    }
   }
  },
  {
   "cell_type": "markdown",
   "source": [
    "next메서드 말고 for문을 통해서도 호출이 가능합니다.\n"
   ],
   "metadata": {
    "collapsed": false,
    "pycharm": {
     "name": "#%% md\n"
    }
   }
  },
  {
   "cell_type": "code",
   "execution_count": 7,
   "outputs": [
    {
     "name": "stdout",
     "output_type": "stream",
     "text": [
      "1\n",
      "4\n",
      "9\n",
      "16\n",
      "25\n"
     ]
    }
   ],
   "source": [
    "def square_numbers(nums):\n",
    "    for i in nums:\n",
    "        yield i*i\n",
    "\n",
    "mynums = square_numbers([1,2,3,4,5])\n",
    "for num in mynums:\n",
    "    print(num)"
   ],
   "metadata": {
    "collapsed": false,
    "pycharm": {
     "name": "#%%\n"
    }
   }
  },
  {
   "cell_type": "markdown",
   "source": [
    "아래와 같이 축약형태로 generator를 만들 수도 있습니다."
   ],
   "metadata": {
    "collapsed": false,
    "pycharm": {
     "name": "#%% md\n"
    }
   }
  },
  {
   "cell_type": "code",
   "execution_count": 8,
   "outputs": [
    {
     "name": "stdout",
     "output_type": "stream",
     "text": [
      "1\n",
      "4\n",
      "9\n",
      "16\n",
      "25\n"
     ]
    }
   ],
   "source": [
    "mynums = (x*x for x in [1,2,3,4,5])\n",
    "for num in mynums:\n",
    "    print(num)"
   ],
   "metadata": {
    "collapsed": false,
    "pycharm": {
     "name": "#%%\n"
    }
   }
  },
  {
   "cell_type": "markdown",
   "source": [
    "아래는 generator 내 데이터를 한번에 보고 싶을 때 입니다.\n",
    "그런데 아래와 같이 사용하면 generator의 메모리 절약 장점이 사라지게 됩니다. 주의하기!!"
   ],
   "metadata": {
    "collapsed": false,
    "pycharm": {
     "name": "#%% md\n"
    }
   }
  },
  {
   "cell_type": "code",
   "execution_count": 9,
   "outputs": [
    {
     "name": "stdout",
     "output_type": "stream",
     "text": [
      "<generator object <genexpr> at 0x7fd4b3dd02b0>\n",
      "[1, 4, 9, 16, 25]\n"
     ]
    }
   ],
   "source": [
    "mynums = (x*x for x in [1,2,3,4,5])\n",
    "print(mynums)\n",
    "print(list(mynums))"
   ],
   "metadata": {
    "collapsed": false,
    "pycharm": {
     "name": "#%%\n"
    }
   }
  },
  {
   "cell_type": "markdown",
   "source": [
    "메모리 장점과 시간절약의 장점이 있다는 것을 아래 코드를 통해 확인해보겠습니다.\n",
    "\n"
   ],
   "metadata": {
    "collapsed": false,
    "pycharm": {
     "name": "#%% md\n"
    }
   }
  },
  {
   "cell_type": "code",
   "execution_count": 10,
   "outputs": [
    {
     "name": "stdout",
     "output_type": "stream",
     "text": [
      "시작 전 메모리 사용량: 71.58203125 MB\n",
      "종료 후 메모리 사용량: 344.5859375 MB\n",
      "총 소요된 시간: 1.840393 초\n"
     ]
    }
   ],
   "source": [
    "from __future__ import division\n",
    "import os\n",
    "import psutil\n",
    "import random\n",
    "import time\n",
    "\n",
    "names = ['최용호', '지길정', '진영욱', '김세훈', '오세훈', '김민우']\n",
    "majors = ['컴퓨터 공학', '국문학', '영문학', '수학', '정치']\n",
    "process = psutil.Process(os.getpid())\n",
    "mem_before = process.memory_info().rss / 1024 / 1024\n",
    "\n",
    "def people_list(num_people):\n",
    "    result = []\n",
    "    for i in range(num_people):\n",
    "        person = {\n",
    "            'id': i,\n",
    "            'name': random.choice(names),\n",
    "            'major': random.choice(majors)\n",
    "        }\n",
    "        result.append(person)\n",
    "    return result\n",
    "\n",
    "def people_generator(num_people):\n",
    "    for i in range(num_people):\n",
    "        person = {\n",
    "            'id': i,\n",
    "            'name': random.choice(names),\n",
    "            'major': random.choice(majors)\n",
    "        }\n",
    "        yield person\n",
    "\n",
    "t1 = time.clock()\n",
    "people_list = people_list(1000000)\n",
    "mem_after = process.memory_info().rss / 1024 / 1024\n",
    "t2 = time.clock()\n",
    "total_time = t2-t1\n",
    "\n",
    "print('시작 전 메모리 사용량: {} MB'.format(mem_before))\n",
    "print('종료 후 메모리 사용량: {} MB'.format(mem_after))\n",
    "print('총 소요된 시간: {:.6f} 초'.format(total_time))"
   ],
   "metadata": {
    "collapsed": false,
    "pycharm": {
     "name": "#%%\n"
    }
   }
  },
  {
   "cell_type": "code",
   "execution_count": 11,
   "outputs": [
    {
     "name": "stdout",
     "output_type": "stream",
     "text": [
      "시작 전 메모리 사용량: 341.21875 MB\n",
      "종료 후 메모리 사용량: 341.21875 MB\n",
      "총 소요된 시간: 0.000090 초\n"
     ]
    }
   ],
   "source": [
    "mem_before = process.memory_info().rss / 1024 / 1024\n",
    "t11 = time.clock()\n",
    "people = people_generator(1000000)\n",
    "mem_after2 = process.memory_info().rss / 1024 / 1024\n",
    "t12 = time.clock()\n",
    "total_time2 =t12 - t11\n",
    "\n",
    "print('시작 전 메모리 사용량: {} MB'.format(mem_before))\n",
    "print('종료 후 메모리 사용량: {} MB'.format(mem_after2))\n",
    "print('총 소요된 시간: {:.6f} 초'.format(total_time2))"
   ],
   "metadata": {
    "collapsed": false,
    "pycharm": {
     "name": "#%%\n"
    }
   }
  },
  {
   "cell_type": "code",
   "execution_count": null,
   "outputs": [],
   "source": [],
   "metadata": {
    "collapsed": false,
    "pycharm": {
     "name": "#%%\n"
    }
   }
  }
 ],
 "metadata": {
  "kernelspec": {
   "display_name": "Python 3",
   "language": "python",
   "name": "python3"
  },
  "language_info": {
   "codemirror_mode": {
    "name": "ipython",
    "version": 2
   },
   "file_extension": ".py",
   "mimetype": "text/x-python",
   "name": "python",
   "nbconvert_exporter": "python",
   "pygments_lexer": "ipython2",
   "version": "2.7.6"
  }
 },
 "nbformat": 4,
 "nbformat_minor": 0
}